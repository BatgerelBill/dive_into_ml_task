{
 "cells": [
  {
   "cell_type": "code",
   "execution_count": 1,
   "id": "08bc5a5c-6026-4035-92c9-c46f3670d603",
   "metadata": {},
   "outputs": [],
   "source": [
    "import numpy as np\n",
    "import pandas as pd\n",
    "from sklearn.model_selection import train_test_split\n",
    "import collections \n",
    "from sklearn.tree import DecisionTreeClassifier\n",
    "from sklearn.metrics import accuracy_score\n",
    "from sklearn.metrics import precision_score\n",
    "from sklearn.metrics import recall_score\n",
    "from sklearn.datasets import make_classification\n",
    "\n",
    "import matplotlib.pyplot as plt\n",
    "from matplotlib.colors import ListedColormap"
   ]
  },
  {
   "cell_type": "markdown",
   "id": "df967126-40b3-42f5-b7f2-f211e104731b",
   "metadata": {},
   "source": [
    "## [Problem 1] Function for finding impureness\n",
    "## [Problem 2] Function for finding information gain"
   ]
  },
  {
   "cell_type": "code",
   "execution_count": 2,
   "id": "9531fa87-8f58-40f0-8540-0143753e2dcf",
   "metadata": {},
   "outputs": [],
   "source": [
    "class ScratchDecesionTreeClassifierDepth1():\n",
    "    \"\"\"\n",
    "    深さ1の決定木分類器のスクラッチ実装\n",
    "\n",
    "    Parameters\n",
    "    ----------\n",
    "    verbose : bool\n",
    "      学習過程を出力する場合はTrue\n",
    "    \"\"\"\n",
    "\n",
    "    def __init__(self, verbose=False):\n",
    "        # ハイパーパラメータを属性として記録\n",
    "        self.verbose = verbose\n",
    "\n",
    "    def fit(self, X, y):\n",
    "        self.gain = 0\n",
    "        for feature_index in range(X.shape[1]):\n",
    "            self.thresholds = np.unique(X[:,feature_index])\n",
    "            for threshold in self.thresholds:\n",
    "                _gain = self._calc_ig(X,feature_index,y,threshold)\n",
    "                if _gain > self.gain:\n",
    "                    self.l_label = collections.Counter(y[X[:,feature_index] < threshold]).most_common()[0][0]\n",
    "                    self.r_label = collections.Counter(y[X[:,feature_index] >= threshold]).most_common()[0][0]\n",
    "                    self.feature = feature_index\n",
    "                    self.threshold = threshold\n",
    "                    self.gain = _gain\n",
    "                    if self.verbose:\n",
    "                        print('feature',self.feature,'threshold',self.threshold,'gain',self.gain)\n",
    "\n",
    "    def predict(self, X):\n",
    "        prediction = np.where(X[:,self.feature] < self.threshold,self.l_label,self.r_label)\n",
    "        return prediction\n",
    "\n",
    "    def _calc_gini(self,y):\n",
    "        labels,counts = np.unique(y,return_counts=True)\n",
    "        _gini = 0\n",
    "        for label in labels:\n",
    "            _gini += (counts[labels==label]/np.sum(counts))**2\n",
    "        gini = 1 - _gini\n",
    "        return gini\n",
    "\n",
    "    def _calc_ig(self,X,feature_index,y,threshold):\n",
    "        labels_l = y[X[:,feature_index] < threshold]\n",
    "        labels_r = y[X[:,feature_index] >= threshold]\n",
    "        gain_l = (len(labels_l)/(len(labels_l)+len(labels_r)))*self._calc_gini(labels_l)\n",
    "        gain_r = (len(labels_r)/(len(labels_l)+len(labels_r)))*self._calc_gini(labels_r)\n",
    "        gain = self._calc_gini(y) -gain_l -gain_r\n",
    "        return gain"
   ]
  },
  {
   "cell_type": "markdown",
   "id": "2d3948a4-5bb1-460e-89a8-1ffbfc1574a7",
   "metadata": {},
   "source": [
    "## [Problem 3] Learning"
   ]
  },
  {
   "cell_type": "code",
   "execution_count": 3,
   "id": "e7b3a6e9-27ce-4922-845b-5110b53f65db",
   "metadata": {},
   "outputs": [],
   "source": [
    "# Create a simple dataset for binary classification\n",
    "X, y = make_classification(n_samples=100, n_features=2, n_classes=2, n_informative=2, n_redundant=0, random_state=42)\n",
    "\n",
    "# Split the dataset into training and testing sets\n",
    "X_train, X_test, y_train, y_test = train_test_split(X, y, test_size=0.2, random_state=42)"
   ]
  },
  {
   "cell_type": "code",
   "execution_count": 4,
   "id": "6c2de51e-5ea1-44c6-9bab-8e5af7742071",
   "metadata": {},
   "outputs": [
    {
     "name": "stdout",
     "output_type": "stream",
     "text": [
      "feature 0 threshold -2.3279946014731516 gain [0.00664953]\n",
      "feature 0 threshold -2.2813861028168905 gain [0.01346955]\n",
      "feature 0 threshold -2.171052819570561 gain [0.02046672]\n",
      "feature 0 threshold -2.0263207931909517 gain [0.02764803]\n",
      "feature 0 threshold -2.0091854456545235 gain [0.03502083]\n",
      "feature 0 threshold -1.876537735912994 gain [0.04259291]\n",
      "feature 0 threshold -1.820376905126064 gain [0.05037243]\n",
      "feature 0 threshold -1.7551864425695025 gain [0.05836806]\n",
      "feature 0 threshold -1.6930284217644647 gain [0.06658891]\n",
      "feature 0 threshold -1.6483207269653521 gain [0.07504464]\n",
      "feature 0 threshold -1.5598485041923271 gain [0.08374547]\n",
      "feature 0 threshold -1.548510140553303 gain [0.09270221]\n",
      "feature 0 threshold -1.4348386734329202 gain [0.10192631]\n",
      "feature 0 threshold -1.4073565777462071 gain [0.11142992]\n",
      "feature 0 threshold -1.36045573115083 gain [0.12122596]\n",
      "feature 0 threshold -1.2856800498792558 gain [0.13132813]\n",
      "feature 0 threshold -1.2172204342846318 gain [0.14175099]\n",
      "feature 0 threshold -1.2075715832600078 gain [0.15251008]\n",
      "feature 0 threshold -1.1580682334866548 gain [0.16362193]\n",
      "feature 0 threshold -1.132074272881558 gain [0.17510417]\n",
      "feature 0 threshold -1.0983168132560461 gain [0.18697564]\n",
      "feature 0 threshold -1.032232742385394 gain [0.19925647]\n",
      "feature 0 threshold -1.0063498510781044 gain [0.2119682]\n",
      "feature 0 threshold -0.9427508676698604 gain [0.22513393]\n",
      "feature 0 threshold -0.9191668645752945 gain [0.23877841]\n",
      "feature 0 threshold -0.8168062806626004 gain [0.25292824]\n",
      "feature 0 threshold -0.8080446346520016 gain [0.26761203]\n",
      "feature 0 threshold -0.7937138690592656 gain [0.28286058]\n",
      "feature 0 threshold -0.7873652323462994 gain [0.29870711]\n",
      "feature 0 threshold -0.5750021456712677 gain [0.3151875]\n",
      "feature 0 threshold -0.5677245254801606 gain [0.33234056]\n",
      "feature 0 threshold -0.5396304356808779 gain [0.35020833]\n",
      "feature 0 threshold -0.5083309481166585 gain [0.36883644]\n",
      "feature 0 threshold -0.34898484096084237 gain [0.38827446]\n",
      "feature 0 threshold -0.33137609720725414 gain [0.40857639]\n",
      "feature 0 threshold -0.27062383183849703 gain [0.42980114]\n",
      "feature 0 threshold 0.25058843541292297 gain [0.43004464]\n"
     ]
    }
   ],
   "source": [
    "scratch_tree = ScratchDecesionTreeClassifierDepth1(verbose = True)\n",
    "scratch_tree.fit(X_train,y_train)"
   ]
  },
  {
   "cell_type": "markdown",
   "id": "26eb3cd2-b7ad-406f-acd1-b2d4b68dae50",
   "metadata": {},
   "source": [
    "## [Problem 4] Estimate"
   ]
  },
  {
   "cell_type": "code",
   "execution_count": 5,
   "id": "0d996ea0-827a-41b5-a638-97008e1128b9",
   "metadata": {},
   "outputs": [],
   "source": [
    "scratch_predictions = scratch_tree.predict(X_test)"
   ]
  },
  {
   "cell_type": "markdown",
   "id": "b6a064f5-410f-4fba-9bb5-c86726fa8b52",
   "metadata": {},
   "source": [
    "## [Problem 5] Learning and estimation"
   ]
  },
  {
   "cell_type": "code",
   "execution_count": 6,
   "id": "21e6701c-e342-4e48-9725-99ac8f70c956",
   "metadata": {},
   "outputs": [],
   "source": [
    "# Train the scikit-learn decision tree classifier\n",
    "sklearn_tree = DecisionTreeClassifier(max_depth=1, random_state=42)\n",
    "sklearn_tree.fit(X_train, y_train)\n",
    "\n",
    "# Make predictions using the scikit-learn decision tree\n",
    "sklearn_predictions = sklearn_tree.predict(X_test)"
   ]
  },
  {
   "cell_type": "code",
   "execution_count": 7,
   "id": "0a94c883-08d8-412c-a650-10257277a5ed",
   "metadata": {},
   "outputs": [
    {
     "name": "stdout",
     "output_type": "stream",
     "text": [
      "\n",
      "Performance Metrics:\n",
      "Scratch Decision Tree - Accuracy: 0.95\n",
      "Scratch Decision Tree - Precision: 0.9\n",
      "Scratch Decision Tree - Recall: 1.0\n",
      "\n",
      "Scikit-learn Decision Tree - Accuracy: 0.95\n",
      "Scikit-learn Decision Tree - Precision: 0.9\n",
      "Scikit-learn Decision Tree - Recall: 1.0\n"
     ]
    }
   ],
   "source": [
    "# Evaluate performance using scikit-learn metrics\n",
    "accuracy_scratch = accuracy_score(y_test, scratch_predictions)\n",
    "precision_scratch = precision_score(y_test, scratch_predictions)\n",
    "recall_scratch = recall_score(y_test, scratch_predictions)\n",
    "\n",
    "accuracy_sklearn = accuracy_score(y_test, sklearn_predictions)\n",
    "precision_sklearn = precision_score(y_test, sklearn_predictions)\n",
    "recall_sklearn = recall_score(y_test, sklearn_predictions)\n",
    "\n",
    "print(\"\\nPerformance Metrics:\")\n",
    "print(\"Scratch Decision Tree - Accuracy:\", accuracy_scratch)\n",
    "print(\"Scratch Decision Tree - Precision:\", precision_scratch)\n",
    "print(\"Scratch Decision Tree - Recall:\", recall_scratch)\n",
    "\n",
    "print(\"\\nScikit-learn Decision Tree - Accuracy:\", accuracy_sklearn)\n",
    "print(\"Scikit-learn Decision Tree - Precision:\", precision_sklearn)\n",
    "print(\"Scikit-learn Decision Tree - Recall:\", recall_sklearn)"
   ]
  },
  {
   "cell_type": "markdown",
   "id": "b1aed77f-5b01-47af-a107-95a7822a1dd0",
   "metadata": {},
   "source": [
    "## [Problem 6] Visualization of decision area"
   ]
  },
  {
   "cell_type": "code",
   "execution_count": 8,
   "id": "1bb42a1d-32b5-4111-975d-95ef6624b8eb",
   "metadata": {},
   "outputs": [],
   "source": [
    "# Function to plot decision boundaries\n",
    "def plot_decision_boundary(X, y, model, title):\n",
    "    h = 0.02  # Step size in the mesh\n",
    "\n",
    "    x_min, x_max = X[:, 0].min() - 1, X[:, 0].max() + 1\n",
    "    y_min, y_max = X[:, 1].min() - 1, X[:, 1].max() + 1\n",
    "\n",
    "    xx, yy = np.meshgrid(np.arange(x_min, x_max, h), np.arange(y_min, y_max, h))\n",
    "\n",
    "    Z = model.predict(np.c_[xx.ravel(), yy.ravel()])\n",
    "    Z = np.array(Z).reshape(xx.shape)\n",
    "\n",
    "    cmap_light = ListedColormap(['#FFAAAA', '#AAAAFF'])\n",
    "    cmap_bold = ListedColormap(['#FF0000', '#0000FF'])\n",
    "\n",
    "    plt.figure(figsize=(8, 6))\n",
    "    plt.contourf(xx, yy, Z, cmap=cmap_light, alpha=0.3)\n",
    "    plt.scatter(X[:, 0], X[:, 1], c=y, cmap=cmap_bold, edgecolor='k', s=20)\n",
    "    plt.title(title)\n",
    "    plt.xlabel('Feature 1')\n",
    "    plt.ylabel('Feature 2')\n",
    "    plt.show()"
   ]
  },
  {
   "cell_type": "code",
   "execution_count": 9,
   "id": "3c811a75-7dde-445a-8bb8-daa27c3f51c7",
   "metadata": {},
   "outputs": [
    {
     "data": {
      "image/png": "[encoded data removed]",
      "text/plain": [
       "<Figure size 800x600 with 1 Axes>"
      ]
     },
     "metadata": {},
     "output_type": "display_data"
    },
    {
     "data": {
      "image/png": "[encoded data removed]",
      "text/plain": [
       "<Figure size 800x600 with 1 Axes>"
      ]
     },
     "metadata": {},
     "output_type": "display_data"
    }
   ],
   "source": [
    "# Plot decision boundaries for scratch decision tree\n",
    "plot_decision_boundary(X_test, y_test, scratch_tree, \"Decision Area - Scratch Decision Tree\")\n",
    "\n",
    "# Plot decision boundaries for scikit-learn decision tree\n",
    "plot_decision_boundary(X_test, y_test, sklearn_tree, \"Decision Area - Scikit-learn Decision Tree\")"
   ]
  },
  {
   "cell_type": "markdown",
   "id": "ff076bbc-d458-48d0-b80f-75e5caffadbf",
   "metadata": {},
   "source": [
    "## [Problem 7] (Advance assignment) Creation of a decision tree classifier class with a depth of 2"
   ]
  },
  {
   "cell_type": "markdown",
   "id": "070b40c3-e685-42ac-9389-b3271b42a2d0",
   "metadata": {},
   "source": [
    "## [Problem 8] (Advance assignment) Creation of decision tree classifier class with unlimited depth"
   ]
  },
  {
   "cell_type": "code",
   "execution_count": 10,
   "id": "f0e8c217-aa72-4724-8ac2-dab6533105d4",
   "metadata": {},
   "outputs": [],
   "source": [
    "class ScratchDecisionTreeClassifierDepthInf:\n",
    "    def __init__(self, max_depth=None):\n",
    "        self.max_depth = max_depth\n",
    "        self.feature_index = None\n",
    "        self.threshold = None\n",
    "        self.left_class = None\n",
    "        self.right_class = None\n",
    "        self.left_tree = None\n",
    "        self.right_tree = None\n",
    "\n",
    "    def calculate_gini_impurity(self, samples_per_class):\n",
    "        total_samples = sum(samples_per_class)\n",
    "        num_classes = len(samples_per_class)\n",
    "\n",
    "        if total_samples == 0:\n",
    "            return 0\n",
    "\n",
    "        gini_impurity = 1.0\n",
    "\n",
    "        for i in range(num_classes):\n",
    "            proportion = samples_per_class[i] / total_samples\n",
    "            gini_impurity -= proportion ** 2\n",
    "\n",
    "        return gini_impurity\n",
    "\n",
    "    def calculate_information_gain(self, gini_parent, samples_left, samples_right):\n",
    "        total_samples_left = sum(samples_left)\n",
    "        total_samples_right = sum(samples_right)\n",
    "        total_samples_parent = total_samples_left + total_samples_right\n",
    "\n",
    "        if total_samples_parent == 0:\n",
    "            return 0\n",
    "\n",
    "        proportion_left = total_samples_left / total_samples_parent\n",
    "        proportion_right = total_samples_right / total_samples_parent\n",
    "\n",
    "        gini_left = self.calculate_gini_impurity(samples_left)\n",
    "        gini_right = self.calculate_gini_impurity(samples_right)\n",
    "\n",
    "        information_gain = gini_parent - (proportion_left * gini_left + proportion_right * gini_right)\n",
    "\n",
    "        return information_gain\n",
    "\n",
    "    def find_best_split(self, X, y):\n",
    "        num_samples, num_features = X.shape\n",
    "        if num_samples <= 1:\n",
    "            return None, None, None, None  # Don't split if only one sample or empty node\n",
    "\n",
    "        classes = list(set(y))\n",
    "        gini_parent = self.calculate_gini_impurity([list(y).count(c) for c in classes])\n",
    "        best_info_gain = 0\n",
    "        best_feature = None\n",
    "        best_threshold = None\n",
    "\n",
    "        for feature_index in range(num_features):\n",
    "            feature_values = X[:, feature_index]\n",
    "            unique_values = set(feature_values)\n",
    "\n",
    "            for threshold in unique_values:\n",
    "                left_mask = feature_values <= threshold\n",
    "                right_mask = ~left_mask\n",
    "\n",
    "                samples_left = [list(y[left_mask]).count(c) for c in classes]\n",
    "                samples_right = [list(y[right_mask]).count(c) for c in classes]\n",
    "\n",
    "                info_gain = self.calculate_information_gain(gini_parent, samples_left, samples_right)\n",
    "\n",
    "                if info_gain > best_info_gain:\n",
    "                    best_info_gain = info_gain\n",
    "                    best_feature = feature_index\n",
    "                    best_threshold = threshold\n",
    "\n",
    "        return best_feature, best_threshold, best_info_gain, gini_parent\n",
    "\n",
    "    def fit(self, X, y, depth=1):\n",
    "        if (self.max_depth is not None and depth == self.max_depth) or len(set(y)) == 1:\n",
    "            # If the tree reaches the specified depth or the node is pure, create a leaf node\n",
    "            self.left_class = max(set(y), key=list(y).count)\n",
    "            self.right_class = max(set(y), key=list(y).count)\n",
    "            return\n",
    "\n",
    "        best_feature, best_threshold, _, _ = self.find_best_split(X, y)\n",
    "\n",
    "        if best_feature is not None:\n",
    "            self.feature_index = best_feature\n",
    "            self.threshold = best_threshold\n",
    "\n",
    "            left_mask = X[:, best_feature] <= best_threshold\n",
    "            right_mask = ~left_mask\n",
    "\n",
    "            self.left_tree = ScratchDecisionTreeClassifierDepthInf(max_depth=self.max_depth)\n",
    "            self.left_tree.fit(X[left_mask, :], y[left_mask], depth + 1)\n",
    "\n",
    "            self.right_tree = ScratchDecisionTreeClassifierDepthInf(max_depth=self.max_depth)\n",
    "            self.right_tree.fit(X[right_mask, :], y[right_mask], depth + 1)\n",
    "\n",
    "    def predict_sample(self, sample):\n",
    "        if self.feature_index is not None and self.threshold is not None:\n",
    "            if sample[self.feature_index] <= self.threshold:\n",
    "                return self.left_tree.predict_sample(sample)\n",
    "            else:\n",
    "                return self.right_tree.predict_sample(sample)\n",
    "        else:\n",
    "            raise ValueError(\"The model has not been trained yet. Call 'fit' first.\")\n",
    "\n",
    "    def predict(self, X):\n",
    "        return [self.predict_sample(sample) for sample in X]"
   ]
  },
  {
   "cell_type": "code",
   "execution_count": null,
   "id": "bc03eb34-fd7f-4940-b106-5319d78078bd",
   "metadata": {},
   "outputs": [],
   "source": []
  }
 ],
 "metadata": {
  "kernelspec": {
   "display_name": "Python 3 (ipykernel)",
   "language": "python",
   "name": "python3"
  },
  "language_info": {
   "codemirror_mode": {
    "name": "ipython",
    "version": 3
   },
   "file_extension": ".py",
   "mimetype": "text/x-python",
   "name": "python",
   "nbconvert_exporter": "python",
   "pygments_lexer": "ipython3",
   "version": "3.10.12"
  }
 },
 "nbformat": 4,
 "nbformat_minor": 5
}
