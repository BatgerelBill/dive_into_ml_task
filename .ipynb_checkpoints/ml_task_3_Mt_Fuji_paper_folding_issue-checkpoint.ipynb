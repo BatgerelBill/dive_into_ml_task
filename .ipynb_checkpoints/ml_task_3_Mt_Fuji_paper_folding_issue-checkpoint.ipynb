{
 "cells": [
  {
   "cell_type": "markdown",
   "id": "5b86457d-bfae-434c-88ba-ca0639df6330",
   "metadata": {},
   "source": [
    "## [Problem 1] How many times to fold paper to exceed the height of Mt.Fuji?"
   ]
  },
  {
   "cell_type": "code",
   "execution_count": 1,
   "id": "ee2c4508-cede-4abd-97e1-9c4b860af57b",
   "metadata": {},
   "outputs": [
    {
     "name": "stdout",
     "output_type": "stream",
     "text": [
      "Number of folds 26 that paper can be higher than Mt.Fuji\n"
     ]
    }
   ],
   "source": [
    "import math\n",
    "\n",
    "thickness = 0.00008\n",
    "mt_fuji_height = 3776\n",
    "\n",
    "folds = math.ceil(math.log2(mt_fuji_height/thickness))\n",
    "print(f\"Number of folds {folds} that paper can be higher than Mt.Fuji\")"
   ]
  },
  {
   "cell_type": "code",
   "execution_count": 3,
   "id": "b42b53be-cd7f-41f5-9549-edb453b553b5",
   "metadata": {},
   "outputs": [
    {
     "name": "stdout",
     "output_type": "stream",
     "text": [
      "2684.35456\n",
      "5368.70912\n"
     ]
    }
   ],
   "source": [
    "# checking \n",
    "print(thickness*(2**(folds-1)))\n",
    "print(thickness*(2**(folds)))"
   ]
  },
  {
   "cell_type": "markdown",
   "id": "5e46c8fa-ba2b-4be9-926e-6dc38901e267",
   "metadata": {},
   "source": [
    "## [Problem 2] Function corresponding to arbitrary thickness"
   ]
  },
  {
   "cell_type": "code",
   "execution_count": 4,
   "id": "77f24d38-0c16-41d7-bdce-5b0159bba7ed",
   "metadata": {},
   "outputs": [],
   "source": [
    "def compute_number_of_fold(height, \n",
    "                           thickness = 0.00008):\n",
    "    \"\"\" \n",
    "    A function that calculates the number of folds that can be higher than a given height.\n",
    "\n",
    "    Parameteres\n",
    "    -----------\n",
    "    height: float\n",
    "        A given height of object \n",
    "    thickness: float\n",
    "        a paper thickness (default = 0.00008)\n",
    "\n",
    "    Returns\n",
    "    -------\n",
    "    minimum number of folds : int\n",
    "        The number of folds that can be higher than a given height.\n",
    "    \"\"\"\n",
    "\n",
    "    # formula \n",
    "    fold_times = 0\n",
    "    while True:\n",
    "        thickness = thickness*2\n",
    "        fold_times+=1\n",
    "        if thickness>height:\n",
    "            break\n",
    "    \n",
    "    return fold_times"
   ]
  },
  {
   "cell_type": "code",
   "execution_count": 5,
   "id": "0984666e-8ec1-4789-9c33-931a74a82b88",
   "metadata": {},
   "outputs": [
    {
     "name": "stdout",
     "output_type": "stream",
     "text": [
      "Number of folds =  69\n"
     ]
    }
   ],
   "source": [
    "## test \n",
    "distance_between_sun_and_earth = 4.0175*(10**16) #\"closest non-Sun star\".\n",
    "num_folds = compute_number_of_fold(height=distance_between_sun_and_earth, \n",
    "                                   thickness = 0.00008)\n",
    "\n",
    "print(\"Number of folds = \", num_folds)"
   ]
  },
  {
   "cell_type": "markdown",
   "id": "3494f934-6216-4786-952a-bbe81d2ae200",
   "metadata": {},
   "source": [
    "## [Problem 3] Required paper length"
   ]
  },
  {
   "cell_type": "code",
   "execution_count": 6,
   "id": "618b2db1-3963-480d-8560-800687449417",
   "metadata": {},
   "outputs": [],
   "source": [
    "def compute_paper_length(number_of_folds, \n",
    "                         thickness = 0.00008):\n",
    "    \"\"\" \n",
    "    A function that calculates the paper length using a given number of folds.\n",
    "\n",
    "    Parameteres\n",
    "    -----------\n",
    "    number_of_folds: int\n",
    "        ## \n",
    "    thickness: float\n",
    "        a paper thickness (default = 0.00008)\n",
    "\n",
    "    Returns\n",
    "    -------\n",
    "    paper_length : float\n",
    "        #### \n",
    "    \"\"\"\n",
    "\n",
    "    # formula \n",
    "    pi = math.pi\n",
    "    paper_length = ((pi*thickness)/6)*(2**number_of_folds+4)*(2**number_of_folds-1)\n",
    "\n",
    "    return paper_length"
   ]
  },
  {
   "cell_type": "code",
   "execution_count": 7,
   "id": "37c3cebc-1933-452f-bb6d-3b831d81a21d",
   "metadata": {},
   "outputs": [
    {
     "name": "stdout",
     "output_type": "stream",
     "text": [
      "The paper length to reach Moon = 3240919444170.78 million km.\n"
     ]
    }
   ],
   "source": [
    "### reach Moon #### \n",
    "folds = 43\n",
    "paper_length = compute_paper_length(number_of_folds=folds, \n",
    "                                    thickness = 0.00008)\n",
    "\n",
    "print(f\"The paper length to reach Moon = {round(paper_length/(1000*1000000), 2)} million km.\")"
   ]
  },
  {
   "cell_type": "code",
   "execution_count": 8,
   "id": "7fb2f957-7c24-4c84-acd4-ab4cdadecbb0",
   "metadata": {},
   "outputs": [
    {
     "name": "stdout",
     "output_type": "stream",
     "text": [
      "The paper length to reach Mt.Fuji = 47.16 million km.\n"
     ]
    }
   ],
   "source": [
    "### reach Mt.Fuji #### \n",
    "folds = 25\n",
    "paper_length = compute_paper_length(number_of_folds=folds, \n",
    "                                    thickness = 0.00008)\n",
    "\n",
    "print(f\"The paper length to reach Mt.Fuji = {round(paper_length/(1000*1000000), 2)} million km.\")"
   ]
  },
  {
   "cell_type": "code",
   "execution_count": 9,
   "id": "8e6d2097-e9ac-4abb-901b-368958f553ea",
   "metadata": {},
   "outputs": [
    {
     "name": "stdout",
     "output_type": "stream",
     "text": [
      "The paper length to reach Proxima Centauri = 1.459580360110035e+28 million km.\n"
     ]
    }
   ],
   "source": [
    "### reach Proxima Centauri #### \n",
    "folds = 69\n",
    "paper_length = compute_paper_length(number_of_folds=folds, \n",
    "                                    thickness = 0.00008)\n",
    "\n",
    "print(f\"The paper length to reach Proxima Centauri = {round(paper_length/(1000*1000000), 2)} million km.\")"
   ]
  },
  {
   "cell_type": "code",
   "execution_count": null,
   "id": "52ab7f22-fe5b-46f4-b83f-c7ecda755ab4",
   "metadata": {},
   "outputs": [],
   "source": []
  }
 ],
 "metadata": {
  "kernelspec": {
   "display_name": "Python 3 (ipykernel)",
   "language": "python",
   "name": "python3"
  },
  "language_info": {
   "codemirror_mode": {
    "name": "ipython",
    "version": 3
   },
   "file_extension": ".py",
   "mimetype": "text/x-python",
   "name": "python",
   "nbconvert_exporter": "python",
   "pygments_lexer": "ipython3",
   "version": "3.10.12"
  }
 },
 "nbformat": 4,
 "nbformat_minor": 5
}
