{
 "cells": [
  {
   "cell_type": "markdown",
   "id": "f8453fa3-df40-408c-93fc-ae2656bbcaed",
   "metadata": {},
   "source": [
    "## [Problem 1] Implementation using exponentiation arithmetic operators"
   ]
  },
  {
   "cell_type": "code",
   "execution_count": 1,
   "id": "44a3077a-ca27-42e9-99a5-0fa0a4e36d21",
   "metadata": {},
   "outputs": [
    {
     "name": "stdout",
     "output_type": "stream",
     "text": [
      "Thickness: 0.00016 meters\n"
     ]
    }
   ],
   "source": [
    "THICKNESS = 0.00008\n",
    "\n",
    "folded_thickness = THICKNESS * 2\n",
    "\n",
    "print(\"Thickness: {} meters\".format(folded_thickness))"
   ]
  },
  {
   "cell_type": "code",
   "execution_count": 5,
   "id": "c3ba9d1b-48c9-4d24-b28b-e67bd9b2f524",
   "metadata": {},
   "outputs": [
    {
     "name": "stdout",
     "output_type": "stream",
     "text": [
      "Thickness: 703687441.77664 meters\n"
     ]
    }
   ],
   "source": [
    "folding_times = 43\n",
    "THICKNESS = 0.00008\n",
    "\n",
    "folded_thickness = THICKNESS * (2 ** folding_times)\n",
    "    \n",
    "print(\"Thickness: {} meters\".format(folded_thickness))"
   ]
  },
  {
   "cell_type": "markdown",
   "id": "606b67a8-9a46-48c1-912d-bf2eee2cf0ee",
   "metadata": {},
   "source": [
    "## [Problem 2] Unit Conversion"
   ]
  },
  {
   "cell_type": "code",
   "execution_count": 15,
   "id": "2cc6f989-3dbf-47d1-9176-83853ae8afe0",
   "metadata": {},
   "outputs": [
    {
     "name": "stdout",
     "output_type": "stream",
     "text": [
      "Thickness:  70.37 ten thousands kilometers\n"
     ]
    }
   ],
   "source": [
    "# Convert meters to kilometers and display with two decimal places\n",
    "print(\"Thickness: {: .2f} ten thousands kilometers\".format(folded_thickness / (1000*10000)))"
   ]
  },
  {
   "cell_type": "markdown",
   "id": "ae80563d-8c72-4989-9916-5ea9a4a6c6b1",
   "metadata": {},
   "source": [
    "## [Problem 3] Create using a for statement"
   ]
  },
  {
   "cell_type": "code",
   "execution_count": 16,
   "id": "651a63f1-46b2-4424-b177-45b7f3775667",
   "metadata": {},
   "outputs": [
    {
     "name": "stdout",
     "output_type": "stream",
     "text": [
      "Thickness:  70.37 ten thousands kilometers\n"
     ]
    }
   ],
   "source": [
    "folding_times = 43\n",
    "THICKNESS = 0.00008\n",
    "for i in range(folding_times):\n",
    "    THICKNESS = THICKNESS * 2\n",
    "\n",
    "print(\"Thickness: {: .2f} ten thousands kilometers\".format(THICKNESS / (1000*10000)))"
   ]
  },
  {
   "cell_type": "markdown",
   "id": "e1b4a78b-2ac4-4f00-b21d-8ee59818c80b",
   "metadata": {},
   "source": [
    "## [Problem 4] Comparison of calculation time"
   ]
  },
  {
   "cell_type": "code",
   "execution_count": 17,
   "id": "51384019-40c7-40c6-a54e-d0f88c7125fb",
   "metadata": {},
   "outputs": [
    {
     "name": "stdout",
     "output_type": "stream",
     "text": [
      "Execution time for method 1 : 6.0558319091796875e-05[s]\n"
     ]
    }
   ],
   "source": [
    "import time\n",
    "\n",
    "# Method 1\n",
    "folding_times = 43\n",
    "THICKNESS = 0.00008\n",
    "\n",
    "start = time.time()\n",
    "#####\n",
    "folded_thickness = THICKNESS * (2 ** folding_times)\n",
    "#####\n",
    "elapsed_time = time.time() - start\n",
    "print(\"Execution time for method 1 : {}[s]\".format(elapsed_time))"
   ]
  },
  {
   "cell_type": "code",
   "execution_count": 18,
   "id": "066dd2fc-da56-4b05-89d4-39069ad8cabf",
   "metadata": {},
   "outputs": [
    {
     "name": "stdout",
     "output_type": "stream",
     "text": [
      "Execution time for method 2 : 8.177757263183594e-05[s]\n"
     ]
    }
   ],
   "source": [
    "# Method 2\n",
    "folding_times = 43\n",
    "THICKNESS = 0.00008\n",
    "\n",
    "start = time.time()\n",
    "#####\n",
    "for i in range(folding_times):\n",
    "    THICKNESS = THICKNESS * 2\n",
    "#####\n",
    "elapsed_time = time.time() - start\n",
    "print(\"Execution time for method 2 : {}[s]\".format(elapsed_time))"
   ]
  },
  {
   "cell_type": "code",
   "execution_count": 24,
   "id": "0356c187-b9da-4db6-b325-1eacb8102d7d",
   "metadata": {},
   "outputs": [
    {
     "name": "stdout",
     "output_type": "stream",
     "text": [
      "451 ns ± 17.2 ns per loop (mean ± std. dev. of 7 runs, 1,000,000 loops each)\n"
     ]
    }
   ],
   "source": [
    "%%timeit\n",
    "THICKNESS = 0.00008\n",
    "folded_thickness = THICKNESS * (2 ** folding_times)"
   ]
  },
  {
   "cell_type": "code",
   "execution_count": 25,
   "id": "1ee43796-66f9-4cf6-b4e9-9ecafc0025b2",
   "metadata": {},
   "outputs": [
    {
     "name": "stdout",
     "output_type": "stream",
     "text": [
      "2.2 µs ± 132 ns per loop (mean ± std. dev. of 7 runs, 100,000 loops each)\n"
     ]
    }
   ],
   "source": [
    "%%timeit\n",
    "THICKNESS = 0.00008\n",
    "for i in range(folding_times):\n",
    "    THICKNESS = THICKNESS * 2"
   ]
  },
  {
   "cell_type": "markdown",
   "id": "398e57ed-16c0-466a-9463-48d131e9cdd1",
   "metadata": {},
   "source": [
    "## [Problem 5] Saving to a list"
   ]
  },
  {
   "cell_type": "code",
   "execution_count": 28,
   "id": "447fecc0-2911-4f98-89aa-418bd9e0f537",
   "metadata": {},
   "outputs": [
    {
     "name": "stdout",
     "output_type": "stream",
     "text": [
      "44\n"
     ]
    }
   ],
   "source": [
    "THICKNESS = 0.00008\n",
    "folded_thickness = []\n",
    "folded_thickness.append(THICKNESS)\n",
    "for i in range(folding_times):\n",
    "    THICKNESS = THICKNESS * 2\n",
    "    folded_thickness.append(THICKNESS)\n",
    "print(len(folded_thickness))"
   ]
  },
  {
   "cell_type": "markdown",
   "id": "fc0069bd-2fef-4edb-bec3-56c0959784f0",
   "metadata": {},
   "source": [
    "## [Problem 6] Displaying a line graph"
   ]
  },
  {
   "cell_type": "code",
   "execution_count": 30,
   "id": "c43a33a4-9d46-4d23-a941-db605b618428",
   "metadata": {},
   "outputs": [
    {
     "data": {
      "image/png": "[encoded data removed]",
      "text/plain": [
       "<Figure size 640x480 with 1 Axes>"
      ]
     },
     "metadata": {},
     "output_type": "display_data"
    }
   ],
   "source": [
    "import matplotlib.pyplot as plt\n",
    "%matplotlib inline\n",
    "\n",
    "# Display the graph. Title and axis label name.\n",
    "plt.title(\"thickness of folded paper\")\n",
    "plt.xlabel(\"number of folds\")\n",
    "plt.ylabel(\"thickness [m]\")\n",
    "plt.plot(folded_thickness)  # Enter the variable name of the list in \"List name\"\n",
    "plt.show()"
   ]
  },
  {
   "cell_type": "markdown",
   "id": "8f1f8fa5-5970-4022-8042-6e612649f4b0",
   "metadata": {},
   "source": [
    "## [Problem 7] Customizing graphs"
   ]
  },
  {
   "cell_type": "code",
   "execution_count": 38,
   "id": "9101719a-1b7c-4d53-be50-998ff203009c",
   "metadata": {},
   "outputs": [
    {
     "data": {
      "image/png": "[encoded data removed]",
      "text/plain": [
       "<Figure size 640x480 with 1 Axes>"
      ]
     },
     "metadata": {},
     "output_type": "display_data"
    }
   ],
   "source": [
    "# Display a red line graph.\n",
    "plt.title(\"thickness of folded paper\")\n",
    "plt.xlabel(\"number of folds\")\n",
    "plt.ylabel(\"thickness [m]\")\n",
    "plt.tick_params(labelsize=20) # Make settings related to axis values\n",
    "plt.plot(folded_thickness, color='green', linewidth=2, linestyle=':')\n",
    "plt.show()"
   ]
  },
  {
   "cell_type": "code",
   "execution_count": null,
   "id": "b107ff6f-9234-4e04-beb7-53abb252cd1a",
   "metadata": {},
   "outputs": [],
   "source": []
  }
 ],
 "metadata": {
  "kernelspec": {
   "display_name": "Python 3 (ipykernel)",
   "language": "python",
   "name": "python3"
  },
  "language_info": {
   "codemirror_mode": {
    "name": "ipython",
    "version": 3
   },
   "file_extension": ".py",
   "mimetype": "text/x-python",
   "name": "python",
   "nbconvert_exporter": "python",
   "pygments_lexer": "ipython3",
   "version": "3.10.12"
  }
 },
 "nbformat": 4,
 "nbformat_minor": 5
}
