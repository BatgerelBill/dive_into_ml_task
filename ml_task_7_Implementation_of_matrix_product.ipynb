{
 "cells": [
  {
   "cell_type": "markdown",
   "id": "102ee4e2-e20f-431a-852d-136c24fc41be",
   "metadata": {},
   "source": [
    "## [Problem 1] Matrix product is calculated manually"
   ]
  },
  {
   "cell_type": "code",
   "execution_count": 1,
   "id": "6fe1070e-e5c2-46a3-abee-3ec3561816bd",
   "metadata": {},
   "outputs": [],
   "source": [
    "import numpy as np\n",
    "a_ndarray = np.array([[-1, 2, 3], [4, -5, 6], [7, 8, -9]])\n",
    "b_ndarray = np.array([[0, 2, 1], [0, 2, -8], [2, 9, -1]])"
   ]
  },
  {
   "cell_type": "code",
   "execution_count": 3,
   "id": "77567556-aebe-44fa-b441-3496e0678fd8",
   "metadata": {},
   "outputs": [
    {
     "data": {
      "text/plain": [
       "array([[0., 0., 0.],\n",
       "       [0., 0., 0.],\n",
       "       [0., 0., 0.]])"
      ]
     },
     "execution_count": 3,
     "metadata": {},
     "output_type": "execute_result"
    }
   ],
   "source": [
    "ab_mult = np.zeros((a_ndarray.shape[0], b_ndarray.shape[1]))\n",
    "ab_mult"
   ]
  },
  {
   "cell_type": "code",
   "execution_count": 4,
   "id": "a9780c40-a54a-43d2-b16f-b82702980d2e",
   "metadata": {},
   "outputs": [
    {
     "data": {
      "text/plain": [
       "array([[  6.,  29., -20.],\n",
       "       [ 12.,  52.,  38.],\n",
       "       [-18., -51., -48.]])"
      ]
     },
     "execution_count": 4,
     "metadata": {},
     "output_type": "execute_result"
    }
   ],
   "source": [
    "for i in range(a_ndarray.shape[0]):\n",
    "    for j in range(b_ndarray.shape[1]):\n",
    "        ab_mult[i, j] = np.sum(a_ndarray[i, :]*b_ndarray[:, j])\n",
    "\n",
    "ab_mult"
   ]
  },
  {
   "cell_type": "markdown",
   "id": "f91abeed-5e2c-4c66-82d3-d3d96f5f032d",
   "metadata": {},
   "source": [
    "Take the row from the first array and the column from the second array for each index. Then multiply the corresponding elements and then add them to reach the matrix product value"
   ]
  },
  {
   "cell_type": "markdown",
   "id": "95c5871b-147a-4a77-bfb5-9eba88184050",
   "metadata": {},
   "source": [
    "## [Problem 2] Calculation by NumPy function"
   ]
  },
  {
   "cell_type": "code",
   "execution_count": 5,
   "id": "e2af6c44-5d68-4c6f-ad51-898665108ae5",
   "metadata": {},
   "outputs": [
    {
     "data": {
      "text/plain": [
       "array([[  6,  29, -20],\n",
       "       [ 12,  52,  38],\n",
       "       [-18, -51, -48]])"
      ]
     },
     "execution_count": 5,
     "metadata": {},
     "output_type": "execute_result"
    }
   ],
   "source": [
    "ab_matmul = np.matmul(a_ndarray, b_ndarray)\n",
    "ab_matmul"
   ]
  },
  {
   "cell_type": "code",
   "execution_count": 6,
   "id": "9922f6c5-b9f5-4e26-9e02-63870e39c09c",
   "metadata": {},
   "outputs": [
    {
     "data": {
      "text/plain": [
       "array([[  6,  29, -20],\n",
       "       [ 12,  52,  38],\n",
       "       [-18, -51, -48]])"
      ]
     },
     "execution_count": 6,
     "metadata": {},
     "output_type": "execute_result"
    }
   ],
   "source": [
    "ab_dot = np.dot(a_ndarray, b_ndarray)\n",
    "ab_dot"
   ]
  },
  {
   "cell_type": "code",
   "execution_count": 7,
   "id": "b796af68-4578-4a85-9757-e8236627dfbf",
   "metadata": {},
   "outputs": [
    {
     "data": {
      "text/plain": [
       "array([[  6,  29, -20],\n",
       "       [ 12,  52,  38],\n",
       "       [-18, -51, -48]])"
      ]
     },
     "execution_count": 7,
     "metadata": {},
     "output_type": "execute_result"
    }
   ],
   "source": [
    "ab_at = a_ndarray@b_ndarray\n",
    "ab_at"
   ]
  },
  {
   "cell_type": "markdown",
   "id": "b66f5aed-411e-475f-a8a8-ac7a4f7c474f",
   "metadata": {},
   "source": [
    "## [Problem 3] Implementation of calculation of a certain element"
   ]
  },
  {
   "cell_type": "code",
   "execution_count": 8,
   "id": "5af27e46-3017-4d43-a183-60875125f82e",
   "metadata": {},
   "outputs": [
    {
     "data": {
      "text/plain": [
       "array([[  6.,  29., -20.],\n",
       "       [ 12.,  52.,  38.],\n",
       "       [-18., -51., -48.]])"
      ]
     },
     "execution_count": 8,
     "metadata": {},
     "output_type": "execute_result"
    }
   ],
   "source": [
    "a = a_ndarray\n",
    "b = b_ndarray\n",
    "ab_mult = np.zeros((a.shape[0], b.shape[1]))\n",
    "\n",
    "for i in range(a.shape[0]):\n",
    "    for j in range(b.shape[1]):\n",
    "        for k in range(b.shape[0]):\n",
    "            ab_mult[i][j] += a[i][k] * b[k][j]\n",
    "\n",
    "ab_mult"
   ]
  },
  {
   "cell_type": "markdown",
   "id": "fc916abb-c8ba-49ce-9767-0d86aa094d7a",
   "metadata": {},
   "source": [
    "## [Problem 4] Creating a function that performs matrix multiplication"
   ]
  },
  {
   "cell_type": "code",
   "execution_count": 9,
   "id": "9bf2eb06-89eb-4542-91fd-3bbec4d70867",
   "metadata": {},
   "outputs": [],
   "source": [
    "def matrix_multiplication(a, b):\n",
    "\n",
    "    ## \n",
    "\n",
    "    assert a.shape[0]==b.shape[1], \"Matrix dim is not suitable\"  #ERROR MSG\n",
    "    \n",
    "    ab_mult = np.zeros((a.shape[0], b.shape[1]))\n",
    "    \n",
    "    for i in range(a.shape[0]):\n",
    "        for j in range(b.shape[1]):\n",
    "            for k in range(b.shape[0]):\n",
    "                ab_mult[i][j] += a[i][k] * b[k][j]\n",
    "\n",
    "    return ab_mult"
   ]
  },
  {
   "cell_type": "code",
   "execution_count": 10,
   "id": "5dde935f-837f-4bb7-bc30-5b30f6290f23",
   "metadata": {},
   "outputs": [
    {
     "data": {
      "text/plain": [
       "array([[  6.,  29., -20.],\n",
       "       [ 12.,  52.,  38.],\n",
       "       [-18., -51., -48.]])"
      ]
     },
     "execution_count": 10,
     "metadata": {},
     "output_type": "execute_result"
    }
   ],
   "source": [
    "matrix_multiplication(a_ndarray, b_ndarray)"
   ]
  },
  {
   "cell_type": "markdown",
   "id": "224a2c07-8e17-45da-8829-1f9796aefaa9",
   "metadata": {},
   "source": [
    "## [Problem 5] Judge the input whose calculation is not defined"
   ]
  },
  {
   "cell_type": "code",
   "execution_count": 11,
   "id": "146b2ce5-3b2d-4f3b-a1d1-fb6c002c6499",
   "metadata": {},
   "outputs": [],
   "source": [
    "d_ndarray = np.array([[-1, 2, 3], [4, -5, 6]])\n",
    "e_ndarray = np.array([[-9, 8, 7], [6, -5, 4]])"
   ]
  },
  {
   "cell_type": "code",
   "execution_count": 12,
   "id": "c4ba1fc7-75c2-48df-9037-41c1bf3c4979",
   "metadata": {},
   "outputs": [
    {
     "ename": "AssertionError",
     "evalue": "Matrix dim is not suitable",
     "output_type": "error",
     "traceback": [
      "\u001b[0;31m---------------------------------------------------------------------------\u001b[0m",
      "\u001b[0;31mAssertionError\u001b[0m                            Traceback (most recent call last)",
      "Cell \u001b[0;32mIn[12], line 1\u001b[0m\n\u001b[0;32m----> 1\u001b[0m \u001b[43mmatrix_multiplication\u001b[49m\u001b[43m(\u001b[49m\u001b[43md_ndarray\u001b[49m\u001b[43m,\u001b[49m\u001b[43m \u001b[49m\u001b[43me_ndarray\u001b[49m\u001b[43m)\u001b[49m\n",
      "Cell \u001b[0;32mIn[9], line 5\u001b[0m, in \u001b[0;36mmatrix_multiplication\u001b[0;34m(a, b)\u001b[0m\n\u001b[1;32m      1\u001b[0m \u001b[38;5;28;01mdef\u001b[39;00m \u001b[38;5;21mmatrix_multiplication\u001b[39m(a, b):\n\u001b[1;32m      2\u001b[0m \n\u001b[1;32m      3\u001b[0m     \u001b[38;5;66;03m## \u001b[39;00m\n\u001b[0;32m----> 5\u001b[0m     \u001b[38;5;28;01massert\u001b[39;00m a\u001b[38;5;241m.\u001b[39mshape[\u001b[38;5;241m0\u001b[39m]\u001b[38;5;241m==\u001b[39mb\u001b[38;5;241m.\u001b[39mshape[\u001b[38;5;241m1\u001b[39m], \u001b[38;5;124m\"\u001b[39m\u001b[38;5;124mMatrix dim is not suitable\u001b[39m\u001b[38;5;124m\"\u001b[39m  \u001b[38;5;66;03m#ERROR MSG\u001b[39;00m\n\u001b[1;32m      7\u001b[0m     ab_mult \u001b[38;5;241m=\u001b[39m np\u001b[38;5;241m.\u001b[39mzeros((a\u001b[38;5;241m.\u001b[39mshape[\u001b[38;5;241m0\u001b[39m], b\u001b[38;5;241m.\u001b[39mshape[\u001b[38;5;241m1\u001b[39m]))\n\u001b[1;32m      9\u001b[0m     \u001b[38;5;28;01mfor\u001b[39;00m i \u001b[38;5;129;01min\u001b[39;00m \u001b[38;5;28mrange\u001b[39m(a\u001b[38;5;241m.\u001b[39mshape[\u001b[38;5;241m0\u001b[39m]):\n",
      "\u001b[0;31mAssertionError\u001b[0m: Matrix dim is not suitable"
     ]
    }
   ],
   "source": [
    "matrix_multiplication(d_ndarray, e_ndarray)"
   ]
  },
  {
   "cell_type": "markdown",
   "id": "571ca15a-77b5-4fc1-8d8b-eba99116c0a7",
   "metadata": {},
   "source": [
    "## [Problem 6] Transposition"
   ]
  },
  {
   "cell_type": "code",
   "execution_count": 13,
   "id": "c3aa73ff-0bdf-4d2e-8cff-50e738f4f33a",
   "metadata": {},
   "outputs": [
    {
     "name": "stdout",
     "output_type": "stream",
     "text": [
      "[[-9  8  7]\n",
      " [ 6 -5  4]]\n"
     ]
    },
    {
     "data": {
      "text/plain": [
       "array([[-9,  6],\n",
       "       [ 8, -5],\n",
       "       [ 7,  4]])"
      ]
     },
     "execution_count": 13,
     "metadata": {},
     "output_type": "execute_result"
    }
   ],
   "source": [
    "print(e_ndarray)\n",
    "np.transpose(e_ndarray)"
   ]
  },
  {
   "cell_type": "code",
   "execution_count": 14,
   "id": "f77ef097-30b6-4fd8-ae3e-4dbe5a218c43",
   "metadata": {},
   "outputs": [
    {
     "data": {
      "text/plain": [
       "array([[-9,  6],\n",
       "       [ 8, -5],\n",
       "       [ 7,  4]])"
      ]
     },
     "execution_count": 14,
     "metadata": {},
     "output_type": "execute_result"
    }
   ],
   "source": [
    "e_ndarray.T"
   ]
  },
  {
   "cell_type": "code",
   "execution_count": 15,
   "id": "59e3e31e-4279-4d9b-a772-ce52b47963df",
   "metadata": {},
   "outputs": [
    {
     "data": {
      "text/plain": [
       "array([[ 46.,  -4.],\n",
       "       [-34.,  73.]])"
      ]
     },
     "execution_count": 15,
     "metadata": {},
     "output_type": "execute_result"
    }
   ],
   "source": [
    "matrix_multiplication(d_ndarray, e_ndarray.T)"
   ]
  },
  {
   "cell_type": "code",
   "execution_count": null,
   "id": "2223ae97-484d-4e1a-8c67-83efa3910a94",
   "metadata": {},
   "outputs": [],
   "source": []
  }
 ],
 "metadata": {
  "kernelspec": {
   "display_name": "Python 3 (ipykernel)",
   "language": "python",
   "name": "python3"
  },
  "language_info": {
   "codemirror_mode": {
    "name": "ipython",
    "version": 3
   },
   "file_extension": ".py",
   "mimetype": "text/x-python",
   "name": "python",
   "nbconvert_exporter": "python",
   "pygments_lexer": "ipython3",
   "version": "3.10.12"
  }
 },
 "nbformat": 4,
 "nbformat_minor": 5
}
