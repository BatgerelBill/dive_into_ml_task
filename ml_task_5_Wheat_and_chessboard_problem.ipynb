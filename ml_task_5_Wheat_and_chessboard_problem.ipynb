{
 "cells": [
  {
   "cell_type": "markdown",
   "id": "c0d97418-521d-4d3f-bcc5-61f6980e6f05",
   "metadata": {},
   "source": [
    "## [Problem 1] Number of wheat on a 2 x 2 square chess board"
   ]
  },
  {
   "cell_type": "code",
   "execution_count": 26,
   "id": "77cec7e3-4906-4635-90bf-63db2cfcc17c",
   "metadata": {},
   "outputs": [
    {
     "name": "stdout",
     "output_type": "stream",
     "text": [
      "0\n",
      "1\n",
      "2\n",
      "Arrange wheat on a plate of 4 squares (list)：[1, 2, 4, 8]\n"
     ]
    }
   ],
   "source": [
    "n_squares = 4\n",
    "small_board_list = [1]\n",
    "for _ in range(n_squares - 1):\n",
    "    print(_)\n",
    "    small_board_list.append(2*small_board_list[-1])\n",
    "print(\"Arrange wheat on a plate of 4 squares (list)：{}\".format(small_board_list))"
   ]
  },
  {
   "cell_type": "code",
   "execution_count": 20,
   "id": "eff74d3f-07e3-4f5b-93de-9e1207575a5c",
   "metadata": {},
   "outputs": [
    {
     "name": "stdout",
     "output_type": "stream",
     "text": [
      "Arrange wheat on a plate of 4 squares (ndarray)：[1 2 4 8]\n"
     ]
    },
    {
     "data": {
      "text/plain": [
       "array([[1, 2],\n",
       "       [4, 8]])"
      ]
     },
     "execution_count": 20,
     "metadata": {},
     "output_type": "execute_result"
    }
   ],
   "source": [
    "import numpy as np\n",
    "\n",
    "small_board_ndarray = np.array(small_board_list)\n",
    "print(\"Arrange wheat on a plate of 4 squares (ndarray)：{}\".format(small_board_ndarray))\n",
    "small_board_ndarray.reshape(2,2)"
   ]
  },
  {
   "cell_type": "code",
   "execution_count": 4,
   "id": "d900f6d4-4ef2-46d5-9a66-2122debfdfc0",
   "metadata": {},
   "outputs": [
    {
     "data": {
      "text/plain": [
       "array([[1., 1., 1., 1.],\n",
       "       [1., 1., 1., 1.],\n",
       "       [1., 1., 1., 1.],\n",
       "       [1., 1., 1., 1.]])"
      ]
     },
     "execution_count": 4,
     "metadata": {},
     "output_type": "execute_result"
    }
   ],
   "source": [
    "chess_board = np.ones((4, 4))\n",
    "chess_board"
   ]
  },
  {
   "cell_type": "code",
   "execution_count": 6,
   "id": "5e99ba79-5f84-41a9-b8c4-6463b61472f9",
   "metadata": {},
   "outputs": [
    {
     "data": {
      "text/plain": [
       "array([[    1,     2,     4,     8],\n",
       "       [   16,    32,    64,   128],\n",
       "       [  256,   512,  1024,  2048],\n",
       "       [ 4096,  8192, 16384, 32768]])"
      ]
     },
     "execution_count": 6,
     "metadata": {},
     "output_type": "execute_result"
    }
   ],
   "source": [
    "for row in range(0, chess_board.shape[0]):\n",
    "    prev_row = row\n",
    "    for col in range(chess_board.shape[1]):\n",
    "        if row==0 and col==0:\n",
    "            chess_board[row, col] = 1\n",
    "        elif col>0 and prev_row==row:\n",
    "            chess_board[row, col] = 2*chess_board[row, col-1]\n",
    "        elif row>0 and col==0:\n",
    "            chess_board[row, col] = 2*chess_board[row-1, -1]\n",
    "\n",
    "chess_board.astype('int64')"
   ]
  },
  {
   "cell_type": "markdown",
   "id": "63305c4a-8bab-4f84-9175-2dee93961562",
   "metadata": {},
   "source": [
    "## [Problem 2] Expansion to n × m mass"
   ]
  },
  {
   "cell_type": "code",
   "execution_count": 7,
   "id": "7f79f021-556e-488b-82e8-894899592992",
   "metadata": {},
   "outputs": [],
   "source": [
    "def wheat_chessboard(matrix_height, matrix_width):\n",
    "\n",
    "    \"\"\"\n",
    "    The function that computes wheat numbers for a given matrix \n",
    "\n",
    "    Parameters:\n",
    "    a give size of matrix\n",
    "\n",
    "    Return:\n",
    "    the number of wheat\n",
    "    \n",
    "    \"\"\"\n",
    "    chess_board = np.zeros((matrix_height, matrix_width))\n",
    "\n",
    "    for row in range(0, chess_board.shape[0]):\n",
    "        prev_row = row\n",
    "        for col in range(chess_board.shape[1]):\n",
    "            if row==0 and col==0:\n",
    "                chess_board[row, col] = 1\n",
    "            elif col>0 and prev_row==row:\n",
    "                chess_board[row, col] = 2*chess_board[row, col-1]\n",
    "            elif row>0 and col==0:\n",
    "                chess_board[row, col] = 2*chess_board[row-1, -1]\n",
    "\n",
    "    return chess_board"
   ]
  },
  {
   "cell_type": "code",
   "execution_count": 25,
   "id": "58e0f860-18f2-411b-973c-8d4fd3ab3a03",
   "metadata": {},
   "outputs": [
    {
     "data": {
      "text/plain": [
       "array([[                  1,                   2,                   4,\n",
       "                          8,                  16,                  32,\n",
       "                         64,                 128],\n",
       "       [                256,                 512,                1024,\n",
       "                       2048,                4096,                8192,\n",
       "                      16384,               32768],\n",
       "       [              65536,              131072,              262144,\n",
       "                     524288,             1048576,             2097152,\n",
       "                    4194304,             8388608],\n",
       "       [           16777216,            33554432,            67108864,\n",
       "                  134217728,           268435456,           536870912,\n",
       "                 1073741824,          2147483648],\n",
       "       [         4294967296,          8589934592,         17179869184,\n",
       "                34359738368,         68719476736,        137438953472,\n",
       "               274877906944,        549755813888],\n",
       "       [      1099511627776,       2199023255552,       4398046511104,\n",
       "              8796093022208,      17592186044416,      35184372088832,\n",
       "             70368744177664,     140737488355328],\n",
       "       [    281474976710656,     562949953421312,    1125899906842624,\n",
       "           2251799813685248,    4503599627370496,    9007199254740992,\n",
       "          18014398509481984,   36028797018963968],\n",
       "       [  72057594037927936,  144115188075855872,  288230376151711744,\n",
       "         576460752303423488, 1152921504606846976, 2305843009213693952,\n",
       "        4611686018427387904, 9223372036854775808]], dtype=uint64)"
      ]
     },
     "execution_count": 25,
     "metadata": {},
     "output_type": "execute_result"
    }
   ],
   "source": [
    "### n x m \n",
    "n = 8\n",
    "m = 8\n",
    "wheat_chessboard(matrix_height=n, matrix_width=m).astype(np.uint64)"
   ]
  },
  {
   "cell_type": "markdown",
   "id": "4d66d099-a3b2-4aa7-a350-894197ee7f5c",
   "metadata": {},
   "source": [
    "## [Problem 3] Total number of wheat"
   ]
  },
  {
   "cell_type": "code",
   "execution_count": 14,
   "id": "288a674a-246a-480d-8db4-f979f703ca56",
   "metadata": {},
   "outputs": [],
   "source": [
    "import matplotlib.pyplot as plt\n",
    "%matplotlib inline"
   ]
  },
  {
   "cell_type": "code",
   "execution_count": 15,
   "id": "2834932a-237a-42ae-817d-fc3f6aae4030",
   "metadata": {},
   "outputs": [],
   "source": [
    "n = 8\n",
    "m = 8\n",
    "chess_board = wheat_chessboard(matrix_height=n, matrix_width=m)"
   ]
  },
  {
   "cell_type": "code",
   "execution_count": 16,
   "id": "d496f1c9-e676-4c8f-badf-61961cdec644",
   "metadata": {},
   "outputs": [
    {
     "data": {
      "text/plain": [
       "array([9.04252160e+15, 1.80850432e+16, 3.61700864e+16, 7.23401728e+16,\n",
       "       1.44680346e+17, 2.89360691e+17, 5.78721383e+17, 1.15744277e+18])"
      ]
     },
     "execution_count": 16,
     "metadata": {},
     "output_type": "execute_result"
    }
   ],
   "source": [
    "avg_cols = chess_board.mean(axis=0)\n",
    "avg_cols"
   ]
  },
  {
   "cell_type": "code",
   "execution_count": 17,
   "id": "f731003a-f487-483d-a95a-0d89f2fcd260",
   "metadata": {},
   "outputs": [
    {
     "data": {
      "image/png": "[encoded data removed]",
      "text/plain": [
       "<Figure size 640x480 with 1 Axes>"
      ]
     },
     "metadata": {},
     "output_type": "display_data"
    }
   ],
   "source": [
    "plt.xlabel(\"column\")\n",
    "plt.ylabel(\"number of wheat\")\n",
    "plt.title(\"average wheat in each column\")\n",
    "plt.bar(np.arange(1, 9), avg_cols)\n",
    "plt.show()"
   ]
  },
  {
   "cell_type": "markdown",
   "id": "495fdd69-71cf-4758-ad86-f1fc528341e9",
   "metadata": {},
   "source": [
    "## [Problem 4] Heat map of the number of wheat"
   ]
  },
  {
   "cell_type": "code",
   "execution_count": 18,
   "id": "b149de1c-6cac-4eff-abfc-6e216f8f8904",
   "metadata": {},
   "outputs": [],
   "source": [
    "n = 8\n",
    "m = 8\n",
    "chess_board = wheat_chessboard(matrix_height=n, matrix_width=m)"
   ]
  },
  {
   "cell_type": "code",
   "execution_count": 19,
   "id": "6bc8a81b-2789-4ff4-af7d-479a65dad0e7",
   "metadata": {},
   "outputs": [
    {
     "data": {
      "image/png": "[encoded data removed]",
      "text/plain": [
       "<Figure size 640x480 with 1 Axes>"
      ]
     },
     "metadata": {},
     "output_type": "display_data"
    }
   ],
   "source": [
    "plt.xlabel(\"column\")\n",
    "plt.ylabel(\"row\")\n",
    "plt.title(\"heatmap\")\n",
    "plt.pcolor((chess_board))\n",
    "plt.show()"
   ]
  },
  {
   "cell_type": "markdown",
   "id": "d12939d2-123c-42db-a081-5778484214dc",
   "metadata": {},
   "source": [
    "## [Problem 5] How many times is the second half as long as the first half?"
   ]
  },
  {
   "cell_type": "code",
   "execution_count": 28,
   "id": "bc2d3570-0b60-4a33-9b1d-168b10129449",
   "metadata": {},
   "outputs": [
    {
     "name": "stdout",
     "output_type": "stream",
     "text": [
      "The second half is 4294967296.0 times larger than the first half\n"
     ]
    }
   ],
   "source": [
    "n = 8\n",
    "m = 8\n",
    "chess_board = wheat_chessboard(matrix_height=n, matrix_width=m)\n",
    "# print(chess_board[:4, :].astype(np.uint64))\n",
    "# print(chess_board[4:, :].astype(np.uint64))\n",
    "\n",
    "first_half = np.sum(chess_board[:4, :])\n",
    "second_half = np.sum(chess_board[4:, :])\n",
    "\n",
    "times = second_half / first_half\n",
    "print(f\"The second half is {times} times larger than the first half\")"
   ]
  },
  {
   "cell_type": "markdown",
   "id": "4e3e4acb-10e2-4031-bfaa-cdf8a7eee08c",
   "metadata": {},
   "source": [
    "## [Problem 6] Expansion to n × m mass by another calculation method"
   ]
  },
  {
   "cell_type": "code",
   "execution_count": 29,
   "id": "b1a26bd6-fb26-46ef-981d-80d646cbf6da",
   "metadata": {},
   "outputs": [
    {
     "name": "stdout",
     "output_type": "stream",
     "text": [
      "Arrange wheat on a plate of 4 squares (ndarray)：[1 2 4 8]\n"
     ]
    }
   ],
   "source": [
    "n_squares = 4\n",
    "small_board_ndarray = np.array([1])\n",
    "for _ in range(n_squares - 1):\n",
    "    small_board_ndarray = np.append(small_board_ndarray, 2*small_board_ndarray[-1])\n",
    "print(\"Arrange wheat on a plate of 4 squares (ndarray)：{}\".format(small_board_ndarray))"
   ]
  },
  {
   "cell_type": "code",
   "execution_count": 30,
   "id": "15b7eb64-c2cf-4839-b088-bbd303a6e774",
   "metadata": {},
   "outputs": [
    {
     "name": "stdout",
     "output_type": "stream",
     "text": [
      "Arrange wheat on a plate of 4 squares (ndarray)：[1 2 4 8]\n"
     ]
    }
   ],
   "source": [
    "n_squares = 4\n",
    "indices_of_squares = np.arange(n_squares)\n",
    "small_board_ndarray = 2**indices_of_squares\n",
    "print(\"Arrange wheat on a plate of 4 squares (ndarray)：{}\".format(small_board_ndarray))"
   ]
  },
  {
   "cell_type": "code",
   "execution_count": 31,
   "id": "ae22dd7c-8af6-4178-96c5-49d6f7121dd5",
   "metadata": {},
   "outputs": [
    {
     "name": "stdout",
     "output_type": "stream",
     "text": [
      "[5 6 7]\n",
      "[5 6 7]\n"
     ]
    }
   ],
   "source": [
    "a = np.array([0,1,2])\n",
    "\n",
    "#When not using broadcast\n",
    "b = np.array([5,5,5])\n",
    "print(a + b)  # Out: [5,6,7]\n",
    "\n",
    "#When using broadcast\n",
    "print(a + 5)  # Out: [5,6,7] * 5 is automatically converted to the matrix of (1,3) ([5,5,5])"
   ]
  },
  {
   "cell_type": "code",
   "execution_count": 32,
   "id": "7af35f61-03b1-4491-85b1-231c3810e396",
   "metadata": {},
   "outputs": [
    {
     "name": "stdout",
     "output_type": "stream",
     "text": [
      "Number of wheat in the last trout：-9223372036854775808\n"
     ]
    },
    {
     "name": "stderr",
     "output_type": "stream",
     "text": [
      "/tmp/ipykernel_899281/974516528.py:4: RuntimeWarning: overflow encountered in scalar multiply\n",
      "  board_ndarray = np.append(board_ndarray, 2*board_ndarray[-1])\n"
     ]
    }
   ],
   "source": [
    "n_squares = 64\n",
    "board_ndarray = np.array([1])\n",
    "for _ in range(n_squares - 1):\n",
    "    board_ndarray = np.append(board_ndarray, 2*board_ndarray[-1])\n",
    "print(\"Number of wheat in the last trout：{}\".format(board_ndarray[-1])) # -9223372036854775808"
   ]
  },
  {
   "cell_type": "code",
   "execution_count": 33,
   "id": "8e8ccb18-216b-4b97-96ce-f91664ca8ecb",
   "metadata": {},
   "outputs": [
    {
     "name": "stdout",
     "output_type": "stream",
     "text": [
      "Number of wheat in the last trout：-9223372036854775808\n"
     ]
    }
   ],
   "source": [
    "n_squares = 64\n",
    "indices_of_squares = np.arange(n_squares)\n",
    "board_ndarray = 2**indices_of_squares\n",
    "print(\"Number of wheat in the last trout：{}\".format(board_ndarray[-1])) # -9223372036854775808"
   ]
  },
  {
   "cell_type": "code",
   "execution_count": 34,
   "id": "59fe3653-b068-4306-86f6-1b9899eae2d8",
   "metadata": {},
   "outputs": [
    {
     "name": "stdout",
     "output_type": "stream",
     "text": [
      "Number of wheat in the last trout：9223372036854775808\n"
     ]
    }
   ],
   "source": [
    "n_squares = 64\n",
    "indices_of_squares = np.arange(n_squares).astype(np.uint64)\n",
    "board_ndarray = 2**indices_of_squares\n",
    "print(\"Number of wheat in the last trout：{}\".format(board_ndarray[-1])) # 9223372036854775808"
   ]
  },
  {
   "cell_type": "code",
   "execution_count": 35,
   "id": "6805c192-3101-4ce6-8731-c0e819adef76",
   "metadata": {},
   "outputs": [
    {
     "name": "stdout",
     "output_type": "stream",
     "text": [
      "uint64\n"
     ]
    }
   ],
   "source": [
    "print(board_ndarray.dtype)"
   ]
  },
  {
   "cell_type": "markdown",
   "id": "b68162c6-4d11-4d4e-b6f4-bf46c5311b79",
   "metadata": {},
   "source": [
    "## [Problem 6] Expansion to n × m mass by another calculation method"
   ]
  },
  {
   "cell_type": "code",
   "execution_count": 42,
   "id": "45dc1eaa-6c57-460f-bee0-1b389db9508b",
   "metadata": {},
   "outputs": [],
   "source": [
    "def wheat_chessboard_numpy(matrix_height, matrix_width):\n",
    "\n",
    "    ### broadcast\n",
    "    \n",
    "    indices_of_squares = np.arange(matrix_height*matrix_width).astype(\"int64\")\n",
    "    chess_board = 2**indices_of_squares\n",
    "    chess_board = chess_board.reshape((matrix_height, matrix_width))\n",
    "\n",
    "    return chess_board"
   ]
  },
  {
   "cell_type": "code",
   "execution_count": 43,
   "id": "8f455f14-71be-44cf-9853-a5e08d67c838",
   "metadata": {},
   "outputs": [
    {
     "data": {
      "text/plain": [
       "array([[                   1,                    2,                    4,\n",
       "                           8,                   16,                   32,\n",
       "                          64,                  128],\n",
       "       [                 256,                  512,                 1024,\n",
       "                        2048,                 4096,                 8192,\n",
       "                       16384,                32768],\n",
       "       [               65536,               131072,               262144,\n",
       "                      524288,              1048576,              2097152,\n",
       "                     4194304,              8388608],\n",
       "       [            16777216,             33554432,             67108864,\n",
       "                   134217728,            268435456,            536870912,\n",
       "                  1073741824,           2147483648],\n",
       "       [          4294967296,           8589934592,          17179869184,\n",
       "                 34359738368,          68719476736,         137438953472,\n",
       "                274877906944,         549755813888],\n",
       "       [       1099511627776,        2199023255552,        4398046511104,\n",
       "               8796093022208,       17592186044416,       35184372088832,\n",
       "              70368744177664,      140737488355328],\n",
       "       [     281474976710656,      562949953421312,     1125899906842624,\n",
       "            2251799813685248,     4503599627370496,     9007199254740992,\n",
       "           18014398509481984,    36028797018963968],\n",
       "       [   72057594037927936,   144115188075855872,   288230376151711744,\n",
       "          576460752303423488,  1152921504606846976,  2305843009213693952,\n",
       "         4611686018427387904, -9223372036854775808]])"
      ]
     },
     "execution_count": 43,
     "metadata": {},
     "output_type": "execute_result"
    }
   ],
   "source": [
    "n = 8\n",
    "m = 8\n",
    "chess_board = wheat_chessboard_numpy(matrix_height=n, matrix_width=m)\n",
    "chess_board"
   ]
  },
  {
   "cell_type": "markdown",
   "id": "36078557-1d69-4efd-b30c-2784cbd18204",
   "metadata": {},
   "source": [
    "## [Problem 7] Comparison of calculation times"
   ]
  },
  {
   "cell_type": "code",
   "execution_count": 44,
   "id": "b4ba1112-38ce-46d1-8558-bb53eaceab44",
   "metadata": {},
   "outputs": [
    {
     "name": "stdout",
     "output_type": "stream",
     "text": [
      "34 µs ± 1.68 µs per loop (mean ± std. dev. of 7 runs, 10,000 loops each)\n"
     ]
    }
   ],
   "source": [
    "%%timeit\n",
    "n = 8\n",
    "m = 8\n",
    "chess_board = wheat_chessboard(matrix_height=n, matrix_width=m)\n",
    "chess_board"
   ]
  },
  {
   "cell_type": "code",
   "execution_count": 45,
   "id": "bfe841b2-0188-4b36-a70b-ba3bed2118c4",
   "metadata": {},
   "outputs": [
    {
     "name": "stdout",
     "output_type": "stream",
     "text": [
      "4.6 µs ± 208 ns per loop (mean ± std. dev. of 7 runs, 100,000 loops each)\n"
     ]
    }
   ],
   "source": [
    "%%timeit\n",
    "n = 8\n",
    "m = 8\n",
    "chess_board = wheat_chessboard_numpy(matrix_height=n, matrix_width=m)\n",
    "chess_board"
   ]
  },
  {
   "cell_type": "code",
   "execution_count": null,
   "id": "49461d2f-a53c-416b-b74b-722d61e93d72",
   "metadata": {},
   "outputs": [],
   "source": []
  }
 ],
 "metadata": {
  "kernelspec": {
   "display_name": "Python 3 (ipykernel)",
   "language": "python",
   "name": "python3"
  },
  "language_info": {
   "codemirror_mode": {
    "name": "ipython",
    "version": 3
   },
   "file_extension": ".py",
   "mimetype": "text/x-python",
   "name": "python",
   "nbconvert_exporter": "python",
   "pygments_lexer": "ipython3",
   "version": "3.10.12"
  }
 },
 "nbformat": 4,
 "nbformat_minor": 5
}
